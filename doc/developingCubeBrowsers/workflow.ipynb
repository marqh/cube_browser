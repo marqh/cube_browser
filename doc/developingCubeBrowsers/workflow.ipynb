{
 "cells": [
  {
   "cell_type": "code",
   "execution_count": null,
   "metadata": {
    "collapsed": false,
    "urth": {
     "dashboard": {
      "layout": {
       "col": 0,
       "height": 6,
       "row": 0,
       "width": 5
      }
     }
    }
   },
   "outputs": [],
   "source": [
    "import glob\n",
    "import IPython.display\n",
    "import ipywidgets\n",
    "import iris\n",
    "\n",
    "#https://ipywidgets.readthedocs.io/en/latest/examples/Widget%20Events.html\n",
    "path = ipywidgets.Text(\n",
    "    description='Path:',\n",
    "    value='/data/users/itmh/ukvTigge7Feb16',\n",
    ")\n",
    "#IPython.display.display(path)\n",
    "\n",
    "options = glob.glob('{}/*'.format(path.value))\n",
    "options.sort()\n",
    "\n",
    "files = ipywidgets.SelectMultiple(\n",
    "    description='Files:',\n",
    "    options=options,\n",
    "    width='100%'\n",
    ")\n",
    "#IPython.display.display(files)\n",
    "\n",
    "def handle_path(sender):\n",
    "    options = glob.glob('{}/*'.format(path.value))\n",
    "    options.sort()\n",
    "    files.options = options\n",
    "\n",
    "#path.on_submit(handle_submit)\n",
    "# path is the widget which i want to observe\n",
    "# the first argument is the function to run on 'event'\n",
    "# names is the thing that i want know about, within path\n",
    "path.observe(handle_path, names='value')\n",
    "\n",
    "\n",
    "load_button = ipywidgets.Button(description=\"Load these Files!\")\n",
    "\n",
    "cubes_print = ipywidgets.Output()\n",
    "\n",
    "\n",
    "\n",
    "button = ipywidgets.Button(description=\"Click Me!\")\n",
    "\n",
    "\n",
    "\n",
    "container = ipywidgets.Box(children=[path, files, load_button, cubes_print, button])\n",
    "#container.layout.border = '3px red dotted'\n",
    "\n",
    "IPython.display.display(container)\n",
    "\n",
    "cubes = []\n",
    "def on_button_clicked(b):\n",
    "    cubes = iris.load(files.value)\n",
    "    with cubes_print:\n",
    "        print(cubes)\n",
    "    return cubes\n",
    "\n",
    "cubes = load_button.on_click(on_button_clicked)\n",
    "\n",
    "def on_button_clicked(b):\n",
    "    # workaround\n",
    "    print(cubes)\n",
    "    if cubes:\n",
    "        if len(cubes[0].shape == 4):\n",
    "            mycube = cubes[0][0, 0, :, :]\n",
    "            print(mycube)\n",
    "\n",
    "button.on_click(on_button_clicked)\n",
    "\n",
    "\n",
    "\n"
   ]
  },
  {
   "cell_type": "code",
   "execution_count": null,
   "metadata": {
    "collapsed": false
   },
   "outputs": [],
   "source": [
    "%matplotlib nbagg\n",
    "\n",
    "mycube = iris.load('/data/users/itmh/ukvTigge7Feb16/pressure_and_cloud.nc')\n",
    "myslice = mycube[0][0, 0, 0, :, :]\n",
    "#print(myslice)\n",
    "\n",
    "import matplotlib.pyplot as plt\n",
    "import iris.quickplot as qplt\n",
    "\n",
    "plot_button = ipywidgets.Button(description=\"Plot my Slice!\")\n",
    "\n",
    "plot_type = ipywidgets.Dropdown(\n",
    "    options=[qplt.pcolormesh, qplt.contour],\n",
    "    value=qplt.pcolormesh,\n",
    "    description='Plot Type:',\n",
    ")\n",
    "\n",
    "acontainer = ipywidgets.Box(children=[plot_type, plot_button])\n",
    "\n",
    "IPython.display.display(acontainer)\n",
    "\n",
    "def plot_button_clicked(b):\n",
    "    plot_type.value(myslice)\n",
    "    plt.gca().coastlines()\n",
    "\n",
    "\n",
    "plot_button.on_click(plot_button_clicked)"
   ]
  },
  {
   "cell_type": "code",
   "execution_count": null,
   "metadata": {
    "collapsed": false,
    "urth": {
     "dashboard": {
      "layout": {
       "col": 5,
       "height": 5,
       "row": 4,
       "width": 6
      }
     }
    }
   },
   "outputs": [],
   "source": [
    "\n",
    "\n"
   ]
  }
 ],
 "metadata": {
  "kernelspec": {
   "display_name": "Python 2",
   "language": "python",
   "name": "python2"
  },
  "language_info": {
   "codemirror_mode": {
    "name": "ipython",
    "version": 2
   },
   "file_extension": ".py",
   "mimetype": "text/x-python",
   "name": "python",
   "nbconvert_exporter": "python",
   "pygments_lexer": "ipython2",
   "version": "2.7.11"
  },
  "urth": {
   "dashboard": {
    "cellMargin": 10,
    "defaultCellHeight": 20,
    "layout": "grid",
    "maxColumns": 12
   }
  },
  "widgets": {
   "state": {
    "0154f6188ebd4586b27d1782038bd4b7": {
     "views": []
    },
    "04ace3e6d3c04f52af008c117e49b2ed": {
     "views": []
    },
    "050dc05c11234124aae57f63daf7df77": {
     "views": []
    },
    "07541343add44696a0128ccb97711656": {
     "views": []
    },
    "09c4113b1bec47e49f4400ebe9b0b8f9": {
     "views": []
    },
    "0a4ccf10df364ab0bb87e3d584ee76ba": {
     "views": []
    },
    "0b90f76805ea4c1cb4b51fd596477be0": {
     "views": [
      {
       "cell_index": 0
      }
     ]
    },
    "11cec0d6e1794c83b746e39b8c2f7b84": {
     "views": []
    },
    "1306f61468074feb93ac5ef4277ee40d": {
     "views": []
    },
    "1340bc7cd64f45c0a8717e9d32b8b4be": {
     "views": []
    },
    "1613f46fcdf944efa143f498fb9825da": {
     "views": []
    },
    "19f5d234d0634075b9095d4ea5433a2a": {
     "views": []
    },
    "1a483e5f69f848cda0d12b96be12bb91": {
     "views": []
    },
    "1ab9a62219534979b815b4b6747aae56": {
     "views": []
    },
    "1b2e7887457e43419d39454311784821": {
     "views": []
    },
    "1b9c855b24664e8eabe21619bc5fe8d8": {
     "views": []
    },
    "1c6b99b78ab546a4b1c2792f9fed8d0c": {
     "views": []
    },
    "1ccfb4f4acfe41bfadbd1614ba1f4e1d": {
     "views": []
    },
    "20e1e6a5b13b457fb183937c8f54e2b7": {
     "views": []
    },
    "21fa12065afa4b8eafa2697f35ebcb4c": {
     "views": []
    },
    "2455765a4fd346bba98b03c992ac4c5b": {
     "views": []
    },
    "275aa13421f34978a69db500e0211607": {
     "views": []
    },
    "28606ee20dc146448ec3de3a84e56af5": {
     "views": []
    },
    "295093c3edb140a7885fc622313bff8d": {
     "views": []
    },
    "295e7ca5420c42c0bfb954db17690753": {
     "views": []
    },
    "2a48d8d0c4fc46b3858e879bbf359f7b": {
     "views": []
    },
    "2c1c1fde4db64a4e9c938e14840c1ae5": {
     "views": []
    },
    "314d50f29006474c847c92a5052a0f29": {
     "views": []
    },
    "34a4aef0aa25499a8c599e6b5498a05d": {
     "views": []
    },
    "34ede328a5d94b209daeb24fab2caf0f": {
     "views": []
    },
    "368297527b6b45f283eb9933612b65b8": {
     "views": []
    },
    "37b7e6c2266e422b9ce5a9bd8a8b21e4": {
     "views": []
    },
    "396fbba33bbd4a98aaff614e57e20952": {
     "views": []
    },
    "39b80e82c401454292c6afac5d45174d": {
     "views": []
    },
    "39ea3f92dc0b42f18d862e5b08256671": {
     "views": []
    },
    "3a74d02b626e4d5ebb418250b9d2568f": {
     "views": []
    },
    "3b0ad6d5325f4d7985e48453693a8994": {
     "views": []
    },
    "3c372606131f4251a82427b2d1c76bf1": {
     "views": []
    },
    "3e573bfc9d0a4cafa33c468a91036324": {
     "views": []
    },
    "3f3681be65d745939d2968ee844d3727": {
     "views": []
    },
    "42196f5182f541b9a57d91f5a2459fc5": {
     "views": []
    },
    "42fe7bd849964790a1561aa86aeaa871": {
     "views": []
    },
    "4364f46091554f8a8de5335b668fc2bf": {
     "views": []
    },
    "45b7ac9d822d4338bed77e456f9522c7": {
     "views": []
    },
    "46f0ed99dbcf4b7ab8355bc93f0b7ab4": {
     "views": []
    },
    "4bc5212fa21e43329289390a538229ae": {
     "views": []
    },
    "50e6043ecfa54cc4ab415b558b1823a1": {
     "views": []
    },
    "5219560C0C8A474388222FD59A674ED7": {
     "views": []
    },
    "54418ed57bba4323a3ff32013f71c242": {
     "views": []
    },
    "55b8beed27144b869ca30c5cee86e0df": {
     "views": []
    },
    "5608eb997faa4271b95daa49f901cfae": {
     "views": []
    },
    "56c75804ff7d4aa4aebfec59bb887f9d": {
     "views": []
    },
    "588cd079f9cf4bc39045f405724bd015": {
     "views": []
    },
    "58a4b496259e489c8126089156c10170": {
     "views": []
    },
    "5b26944686804a9ab14f46f0d5cdd258": {
     "views": []
    },
    "5d7787e3dfe742869a9700bdfe406a03": {
     "views": []
    },
    "5fad75f74583411e85b41a801fa9da39": {
     "views": []
    },
    "630747cf05d1402988ea15e7c9d1b6a7": {
     "views": []
    },
    "65fe446d0126426ab9c3420765d738d5": {
     "views": []
    },
    "697635582bf144fabdb8d2f1c5890c29": {
     "views": []
    },
    "6b0d6114fc124f509753eb87db70bb06": {
     "views": []
    },
    "6bbbc0ab669745e4ac67c99629d4c1ef": {
     "views": []
    },
    "6dff27475fe241a89fd86a6fdf23831c": {
     "views": []
    },
    "6f785d06ed8b479c9f96c98cab2aaab5": {
     "views": []
    },
    "71fdebc392b14d84b16010be5024944d": {
     "views": []
    },
    "72e1c6eb8fbc4cfeb276b79d8389cdf5": {
     "views": []
    },
    "76952ef7beb64aa081ef4ac512449bcd": {
     "views": []
    },
    "79cbcae67389400db74ae164b8501736": {
     "views": []
    },
    "7af3d7576634479dbfa3432b0e2a89aa": {
     "views": []
    },
    "7afe57e5b4cb426aa4022ff06a0d3660": {
     "views": []
    },
    "7b6275156556496191db26bf7ba00eb1": {
     "views": []
    },
    "7bd2019e25a74c4f8e97f161bd4f2536": {
     "views": []
    },
    "7c024cb197014099a9ba8dd4263aa433": {
     "views": []
    },
    "7c86c8d14ad54544a43ad59527670b58": {
     "views": []
    },
    "80f7849bc8df47a5a393cf200ffe3fc4": {
     "views": []
    },
    "822bcb225b5c4cf0bfef5733f2641f47": {
     "views": []
    },
    "835516b8e69c4c7b92672e5d98956442": {
     "views": []
    },
    "8513376458214cb08f92f46796b92d20": {
     "views": []
    },
    "85f2252fb52c422e9af92a10cc2bdc70": {
     "views": []
    },
    "8a38e6bd92104bccad3230159b7d7c31": {
     "views": []
    },
    "8b208973c0024204a42da196856381b5": {
     "views": []
    },
    "8bc5f5404dec41cc8dc3e6215ebf4511": {
     "views": []
    },
    "90901dcaa8b04e318b494f3b40e85270": {
     "views": []
    },
    "92ad1707b923427586ac95b00ad7f3ad": {
     "views": []
    },
    "97986362d24a4df4a61d6851b63d5a81": {
     "views": []
    },
    "98f92063fb764750baa281015b5ef967": {
     "views": [
      {
       "cell_index": 1
      }
     ]
    },
    "99968b717e9a4276b992d0651e85fbe0": {
     "views": []
    },
    "9a5582a500354cc599ae7baee13e8ac1": {
     "views": []
    },
    "9be2054bf7e14d32a64bf2b1fec34b1f": {
     "views": []
    },
    "9eaf261eb9364110a0b4789d839fe6e1": {
     "views": []
    },
    "9f6609fffa294cc880a43b91017647de": {
     "views": []
    },
    "a30ee72bf7474e078df2e94fe1527127": {
     "views": []
    },
    "a706c60b765f4e02810fc494771820c0": {
     "views": []
    },
    "a825f1b51a454316a21fc39c175db845": {
     "views": []
    },
    "a83c78978d234525bbbc370d8363aaa5": {
     "views": []
    },
    "a8e6d88c955e43ce95674dc67a396afb": {
     "views": []
    },
    "aa5700a387ba443eae09b89c51900fa3": {
     "views": []
    },
    "ab37566d28184bbd8150adfb80102d2a": {
     "views": []
    },
    "acc97cd3b1a348019d686b2a739f2aea": {
     "views": []
    },
    "ad4111cd13a348f88a33fb175f646757": {
     "views": []
    },
    "b05b06a8ebfb4df6891f026767a8c68c": {
     "views": []
    },
    "b0847c0f0b544095a780f3541df60071": {
     "views": []
    },
    "b1be1fd2e77841c1aa15847bb1f72d21": {
     "views": []
    },
    "b3de7a3e9d934297aee92fb8abe278aa": {
     "views": []
    },
    "b66bc63e6c63475a87a774a9587a3b49": {
     "views": []
    },
    "b8108fb2ac96423eab392bf0d445ed2c": {
     "views": []
    },
    "bbbf1b99667040fd80fe1a289c5629a3": {
     "views": []
    },
    "c2dcb9ecb4374b37a16c9a5e69feb195": {
     "views": []
    },
    "c4a06a8d85cd498c94d58362674787d6": {
     "views": []
    },
    "c4c1aa708d3b482bb8b69050a9377431": {
     "views": []
    },
    "c595f2a491434a58aa986151f2e64eff": {
     "views": []
    },
    "c5c249e53bba4caab5cf2a2503a159ff": {
     "views": []
    },
    "c5c57ad7c5084133a3d8224c30b56c07": {
     "views": []
    },
    "c5c6218c280b47009bc58c2bc5275eb1": {
     "views": []
    },
    "c845c5ba75fe49389187a14e2033ae12": {
     "views": []
    },
    "c8bc7a7a6a8e45b090d2e4a4ae01b518": {
     "views": []
    },
    "c92b6a9f53dd43aa9cb65a0d958a3f48": {
     "views": []
    },
    "cddc94ebf9fe4be68275ae29236c33b0": {
     "views": []
    },
    "cf1855d55e6c400492d7e053b2722193": {
     "views": []
    },
    "d00f40f90aa94e9c82f72af205a0d36d": {
     "views": []
    },
    "d348aae8eef24ad4841ed5defaa81f7d": {
     "views": []
    },
    "d4e4e2a221ae4d349767177124f8509c": {
     "views": []
    },
    "d6f9fb97dab94e68bc900c342efc8daa": {
     "views": []
    },
    "d8920eb07fe5416b88350c7c9642c4c1": {
     "views": []
    },
    "d9519f4722c14ef4839d67bacb3ae6b1": {
     "views": []
    },
    "dba8d5c828f54204b3e839df5e3df195": {
     "views": []
    },
    "dd74fe40fc8145ac96d77e5ba3e57e67": {
     "views": []
    },
    "dfa52e23c08f4dbc851f439a77760a9e": {
     "views": []
    },
    "dffedb4a2695421db20f1921eaee9907": {
     "views": []
    },
    "e0471e2f3b1449eeb4803b0040ad8c96": {
     "views": []
    },
    "e05ac9d8c487442ab047f7e139a48191": {
     "views": []
    },
    "e310cdd5446f455486ef7ec22a3d4f64": {
     "views": []
    },
    "e31a546456e0497292cda3f03e518a5b": {
     "views": []
    },
    "e41c9ba4faf84ee791361a471cc807b2": {
     "views": []
    },
    "e70b63ee84754f9e9bad779cc2717c34": {
     "views": []
    },
    "e72c65a0483f4392948e463ff34355a6": {
     "views": []
    },
    "e819ac11eacf44c4a50c198475cc6ba5": {
     "views": []
    },
    "e8b908628acc496b8d6df71750bd5e8c": {
     "views": []
    },
    "e94f3c67fa3f46fb91f11a6fcff410f4": {
     "views": []
    },
    "ed25b83429ce4712803a915c241bf1a1": {
     "views": []
    },
    "efb7a88f8e94477d9b04d5ba19842561": {
     "views": []
    },
    "f7e35da75ae94e209688c20fdfb6eaaa": {
     "views": []
    },
    "f915bcac419a4a7c8235c976dab7bcb0": {
     "views": []
    },
    "f94427052a8a430581890c3e1973d25b": {
     "views": []
    },
    "fa566f75d5f14c02a8f3e7fa26dfe441": {
     "views": []
    },
    "fab323789c7e4bee824a487a5887b59b": {
     "views": []
    },
    "fba053792fc34888b26360ed43b1b390": {
     "views": []
    },
    "fcfc949532f743a1bbcced02616166aa": {
     "views": []
    },
    "fe4e86277fc847d293f167c48393cd6a": {
     "views": []
    }
   },
   "version": "1.1.1"
  }
 },
 "nbformat": 4,
 "nbformat_minor": 0
}
