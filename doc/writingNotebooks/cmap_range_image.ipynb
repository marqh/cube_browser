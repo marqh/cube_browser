{
 "cells": [
  {
   "cell_type": "markdown",
   "metadata": {},
   "source": [
    "# Colour Map and Range Presets"
   ]
  },
  {
   "cell_type": "markdown",
   "metadata": {},
   "source": [
    "The cube_browser module provides a colelciton of default colour maps and data ranges for defined phenomena: CF standard_name and unit definitions. "
   ]
  },
  {
   "cell_type": "code",
   "execution_count": null,
   "metadata": {
    "collapsed": false
   },
   "outputs": [],
   "source": [
    "import iris\n",
    "import holoviews as hv\n",
    "import geoviews as gv\n",
    "import cube_browser\n",
    "import cartopy"
   ]
  },
  {
   "cell_type": "code",
   "execution_count": null,
   "metadata": {
    "collapsed": false
   },
   "outputs": [],
   "source": [
    "cube = iris.load_cube(iris.sample_data_path('rotated_pole.nc'))\n",
    "print(cube)"
   ]
  },
  {
   "cell_type": "code",
   "execution_count": null,
   "metadata": {
    "collapsed": false
   },
   "outputs": [],
   "source": [
    "\n",
    "airp = hv.Dataset(cube)\n",
    "\n",
    "airp.to.image(['grid_longitude', 'grid_latitude'], dynamic=True)  * gv.Feature(cartopy.feature.COASTLINE)\n"
   ]
  },
  {
   "cell_type": "code",
   "execution_count": null,
   "metadata": {
    "collapsed": false
   },
   "outputs": [],
   "source": [
    "airp.vdims[0].range = (95000, 105000)\n",
    "airp.to.image(['grid_longitude', 'grid_latitude'], dynamic=True)  * gv.Feature(cartopy.feature.COASTLINE)\n"
   ]
  },
  {
   "cell_type": "code",
   "execution_count": null,
   "metadata": {
    "collapsed": false
   },
   "outputs": [],
   "source": [
    "airp = hv.Dataset(cube)\n",
    "airp.vdims[0].range = (None, None)\n",
    "airp.to.image(['grid_longitude', 'grid_latitude'], dynamic=True)  * gv.Feature(cartopy.feature.COASTLINE)"
   ]
  },
  {
   "cell_type": "code",
   "execution_count": null,
   "metadata": {
    "collapsed": false
   },
   "outputs": [],
   "source": [
    "%%opts Image.Air_pressure_at_sea_level (cmap='brewer_Purples_09')\n",
    "airp = hv.Dataset(cube)\n",
    "airp.vdims[0].range = (None, None)\n",
    "\n",
    "airp.to.image(['grid_longitude', 'grid_latitude'], dynamic=True)  * gv.Feature(cartopy.feature.COASTLINE)"
   ]
  }
 ],
 "metadata": {
  "kernelspec": {
   "display_name": "Python 2",
   "language": "python",
   "name": "python2"
  },
  "language_info": {
   "codemirror_mode": {
    "name": "ipython",
    "version": 2
   },
   "file_extension": ".py",
   "mimetype": "text/x-python",
   "name": "python",
   "nbconvert_exporter": "python",
   "pygments_lexer": "ipython2",
   "version": "2.7.11"
  }
 },
 "nbformat": 4,
 "nbformat_minor": 0
}
